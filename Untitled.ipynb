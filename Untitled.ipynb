{
 "cells": [
  {
   "cell_type": "code",
   "execution_count": 58,
   "metadata": {},
   "outputs": [],
   "source": [
    "from selenium import webdriver\n",
    "from selenium.webdriver.common.keys import Keys\n",
    "from selenium.webdriver.support.ui import Select"
   ]
  },
  {
   "cell_type": "code",
   "execution_count": 59,
   "metadata": {},
   "outputs": [],
   "source": [
    "driver = webdriver.Chrome(executable_path='driver/chromedriver.exe')\n",
    "driver.get('https://cvmweb.cvm.gov.br/SWB//Sistemas/SCW/CPublica/CConsolFdo/FormBuscaParticFdo.aspx')"
   ]
  },
  {
   "cell_type": "code",
   "execution_count": 60,
   "metadata": {},
   "outputs": [],
   "source": [
    "driver.find_element_by_id(\"txtCNPJNome\").send_keys('next')"
   ]
  },
  {
   "cell_type": "code",
   "execution_count": 51,
   "metadata": {},
   "outputs": [],
   "source": [
    "b = driver.find_element_by_id('ddlFundos').find_elements_by_tag_name('tr')\n",
    "text_array_0 = []\n",
    "text_array_1 = []\n",
    "text_array_2 = []\n",
    "\n",
    "for i in b:\n",
    "    try:\n",
    "        text_array_0.append([j.text for j in i.find_elements_by_tag_name('td')][0])\n",
    "        text_array_1.append([j.text for j in i.find_elements_by_tag_name('td')][1])\n",
    "        text_array_2.append([j.text for j in i.find_elements_by_tag_name('td')][2])\n",
    "    except Exception as err:\n",
    "        print(err)\n",
    "        continue"
   ]
  },
  {
   "cell_type": "code",
   "execution_count": 54,
   "metadata": {},
   "outputs": [
    {
     "data": {
      "text/plain": [
       "['FI', 'FI', 'FI', 'FI', 'FI', 'FI', 'FI', 'FI', 'FI']"
      ]
     },
     "execution_count": 54,
     "metadata": {},
     "output_type": "execute_result"
    }
   ],
   "source": [
    "text_array_2"
   ]
  },
  {
   "cell_type": "code",
   "execution_count": 197,
   "metadata": {},
   "outputs": [],
   "source": [
    "#dados diários\n",
    "driver.find_element_by_id(\"trInfDiar\").click()"
   ]
  },
  {
   "cell_type": "code",
   "execution_count": 62,
   "metadata": {},
   "outputs": [],
   "source": [
    "#lista de dropdown\n",
    "drop_down_list = [i.strip() for i in driver.find_element_by_name(\"ddComptc\").text.split('\\n')]"
   ]
  },
  {
   "cell_type": "code",
   "execution_count": 206,
   "metadata": {},
   "outputs": [],
   "source": [
    "aux_list = []\n",
    "for k in range(len(drop_down_list)-1):\n",
    "    Select(driver.find_element_by_id('ddComptc')).select_by_value(drop_down_list[k])\n",
    "    for i in driver.find_element_by_id('dgDocDiario').find_elements_by_tag_name('tr'):\n",
    "        aux_list_2 = [j.text for j in i.find_elements_by_tag_name('td')]\n",
    "        aux_list_2.append(drop_down_list[k])\n",
    "        aux_list.append(aux_list_2)"
   ]
  },
  {
   "cell_type": "code",
   "execution_count": 103,
   "metadata": {},
   "outputs": [],
   "source": [
    "drop_down_list = [i.strip() for i in driver.find_element_by_name(\"ddComptc\").text.split('\\n')]\n",
    "\n",
    "col0, col1, col2, col3,col4,col5,col6, col7, col8  = ([] for i in range(9))\n",
    "\n",
    "for k in range(len(drop_down_list)-1):\n",
    "    Select(driver.find_element_by_id('ddComptc')).select_by_value(drop_down_list[k])\n",
    "    for i in driver.find_element_by_id('dgDocDiario').find_elements_by_tag_name('tr'):\n",
    "        a,b,c,d,e,f,g,h = [j.text for j in i.find_elements_by_tag_name('td')]\n",
    "        \n",
    "        col0.append(a)\n",
    "        col1.append(b)\n",
    "        col2.append(c)\n",
    "        col3.append(d)\n",
    "        col4.append(e)\n",
    "        col5.append(f)\n",
    "        col6.append(g)\n",
    "        col7.append(h)\n",
    "        col8.append(drop_down_list[k])\n",
    "        "
   ]
  },
  {
   "cell_type": "code",
   "execution_count": 111,
   "metadata": {},
   "outputs": [],
   "source": []
  },
  {
   "cell_type": "code",
   "execution_count": 117,
   "metadata": {},
   "outputs": [
    {
     "data": {
      "text/plain": [
       "[]"
      ]
     },
     "execution_count": 117,
     "metadata": {},
     "output_type": "execute_result"
    }
   ],
   "source": [
    "col8"
   ]
  },
  {
   "cell_type": "code",
   "execution_count": 208,
   "metadata": {},
   "outputs": [],
   "source": [
    "aux_dict = {\n",
    "\"col1\":col0\n",
    ",\"col2\":col1\n",
    ",\"col3\":col2\n",
    ",\"col4\":col3\n",
    ",\"col5\":col4\n",
    ",\"col6\":col5\n",
    ",\"col7\":col6\n",
    ",\"col8\":col7\n",
    ",\"col9\":col8\n",
    "} \n",
    "aux = pd.DataFrame(data = aux_dict)"
   ]
  },
  {
   "cell_type": "code",
   "execution_count": 209,
   "metadata": {},
   "outputs": [],
   "source": [
    "columns = ['Dia', 'Quota','Captação no Dia', 'Regaste Dia', 'Patrimônio Líquido','Total da Carteira'\n",
    "          , 'N°. Total de Cotistas', 'Data da próxima informação do PL', 'mes_ano']\n",
    "aux.columns = columns\n",
    "aux = aux[aux['Dia'] != 'Dia']\n",
    "aux['Data'] = aux['Dia'] +'/'+ aux['mes_ano']"
   ]
  },
  {
   "cell_type": "code",
   "execution_count": 210,
   "metadata": {},
   "outputs": [],
   "source": [
    "aux.to_csv('NEXT_FUNDO_DE_INVESTIMENTO_EM_COTAS_DE_FUNDO_DE_INVESTIMENTO_MULTIMERCADO_MULTIESTRATÉGIA',\n",
    "           index = False, sep = \"|\")"
   ]
  },
  {
   "cell_type": "code",
   "execution_count": 118,
   "metadata": {},
   "outputs": [],
   "source": [
    "x = [0,1,2,3] \n",
    "y = [\"a\",\"b\",\"c\",\"d\"]"
   ]
  },
  {
   "cell_type": "code",
   "execution_count": 125,
   "metadata": {},
   "outputs": [
    {
     "data": {
      "text/plain": [
       "['0a', '1b', '2c', '3d']"
      ]
     },
     "execution_count": 125,
     "metadata": {},
     "output_type": "execute_result"
    }
   ],
   "source": [
    "[str(i)+j for i,j in zip(x,y)]"
   ]
  }
 ],
 "metadata": {
  "kernelspec": {
   "display_name": "Python 3",
   "language": "python",
   "name": "python3"
  },
  "language_info": {
   "codemirror_mode": {
    "name": "ipython",
    "version": 3
   },
   "file_extension": ".py",
   "mimetype": "text/x-python",
   "name": "python",
   "nbconvert_exporter": "python",
   "pygments_lexer": "ipython3",
   "version": "3.7.4"
  }
 },
 "nbformat": 4,
 "nbformat_minor": 2
}
